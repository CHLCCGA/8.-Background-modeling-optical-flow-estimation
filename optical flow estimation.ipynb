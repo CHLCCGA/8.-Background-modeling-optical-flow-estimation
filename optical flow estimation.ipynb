{
 "cells": [
  {
   "cell_type": "markdown",
   "metadata": {},
   "source": [
    "### Optical flow estimation\n",
    "\n",
    "Optical flow is the \"instantaneous velocity\" of the pixel movement of a spatially moving object on the observation imaging plane. Based on the velocity vector characteristics of each pixel, the image can be dynamically analyzed, such as target tracking.\n",
    "\n",
    "- Constant brightness: the brightness of the same point will not change as time changes.\n",
    "\n",
    "-Small motion: Changes in time will not cause drastic changes in position. Only in the case of small motion can the grayscale change caused by the unit position change between previous and subsequent frames be used to approximate the partial derivative of grayscale to position.\n",
    "\n",
    "- Spatially consistent: adjacent points on a scene are also adjacent points when projected onto the image, and the adjacent points have the same speed. Because there is only one basic equation constraint of the optical flow method, and the required speed in the x and y directions, there are two unknown variables. Therefore, n multiple equations need to be solved in succession."
   ]
  },
  {
   "cell_type": "markdown",
   "metadata": {},
   "source": [
    "![title](lk_2.png)"
   ]
  },
  {
   "cell_type": "markdown",
   "metadata": {},
   "source": [
    "![title](lk_1.png)"
   ]
  },
  {
   "cell_type": "markdown",
   "metadata": {},
   "source": [
    "### Lucas-Kanade "
   ]
  },
  {
   "cell_type": "markdown",
   "metadata": {},
   "source": [
    "![title](lk_3.png)"
   ]
  },
  {
   "cell_type": "markdown",
   "metadata": {},
   "source": [
    "![title](lk_4.png)"
   ]
  },
  {
   "cell_type": "markdown",
   "metadata": {
    "collapsed": true
   },
   "source": [
    "### cv2.calcOpticalFlowPyrLK():\n",
    "parameter:\n",
    "- prevImage previous frame image\n",
    "\n",
    "- nextImage current frame image\n",
    "\n",
    "- prevPts feature point vector to be tracked\n",
    "\n",
    "- winSize the size of the search window\n",
    "\n",
    "- maxLevel maximum number of pyramid levels\n",
    "\n",
    "return:\n",
    "\n",
    "- nextPts output tracking feature point vector\n",
    "\n",
    "- status Whether the feature point is found, the status if found is 1, if not found, the status is 0"
   ]
  },
  {
   "cell_type": "code",
   "execution_count": 10,
   "metadata": {
    "collapsed": true
   },
   "outputs": [],
   "source": [
    "import numpy as np\n",
    "import cv2\n",
    "\n",
    "cap = cv2.VideoCapture('test.avi')\n",
    "\n",
    "# 角点检测所需参数\n",
    "feature_params = dict( maxCorners = 100,\n",
    "                       qualityLevel = 0.3,\n",
    "                       minDistance = 7)\n",
    "\n",
    "# lucas kanade参数\n",
    "lk_params = dict( winSize  = (15,15),\n",
    "                  maxLevel = 2)\n",
    "\n",
    "# 随机颜色条\n",
    "color = np.random.randint(0,255,(100,3))\n",
    "\n",
    "# 拿到第一帧图像\n",
    "ret, old_frame = cap.read()\n",
    "old_gray = cv2.cvtColor(old_frame, cv2.COLOR_BGR2GRAY)\n",
    "# 返回所有检测特征点，需要输入图像，角点最大数量（效率），品质因子（特征值越大的越好，来筛选）\n",
    "# 距离相当于这区间有比这个角点强的，就不要这个弱的了\n",
    "p0 = cv2.goodFeaturesToTrack(old_gray, mask = None, **feature_params)\n",
    "\n",
    "# 创建mask\n",
    "mask = np.zeros_like(old_frame)\n",
    "\n",
    "while(True):\n",
    "    ret,frame = cap.read()\n",
    "    frame_gray = cv2.cvtColor(frame, cv2.COLOR_BGR2GRAY)\n",
    "\n",
    "    # 需要传入前一帧和当前图像以及前一帧检测到的角点\n",
    "    p1, st, err = cv2.calcOpticalFlowPyrLK(old_gray, frame_gray, p0, None, **lk_params)\n",
    "\n",
    "    # st=1表示\n",
    "    good_new = p1[st==1]\n",
    "    good_old = p0[st==1]\n",
    "\n",
    "    # 绘制轨迹\n",
    "    for i,(new,old) in enumerate(zip(good_new,good_old)):\n",
    "        a,b = new.ravel()\n",
    "        c,d = old.ravel()\n",
    "        mask = cv2.line(mask, (a,b),(c,d), color[i].tolist(), 2)\n",
    "        frame = cv2.circle(frame,(a,b),5,color[i].tolist(),-1)\n",
    "    img = cv2.add(frame,mask)\n",
    "\n",
    "    cv2.imshow('frame',img)\n",
    "    k = cv2.waitKey(150) & 0xff\n",
    "    if k == 27:\n",
    "        break\n",
    "\n",
    "    # 更新\n",
    "    old_gray = frame_gray.copy()\n",
    "    p0 = good_new.reshape(-1,1,2)\n",
    "\n",
    "cv2.destroyAllWindows()\n",
    "cap.release()"
   ]
  },
  {
   "cell_type": "code",
   "execution_count": null,
   "metadata": {
    "collapsed": true
   },
   "outputs": [],
   "source": []
  }
 ],
 "metadata": {
  "kernelspec": {
   "display_name": "Python 3",
   "language": "python",
   "name": "python3"
  },
  "language_info": {
   "codemirror_mode": {
    "name": "ipython",
    "version": 3
   },
   "file_extension": ".py",
   "mimetype": "text/x-python",
   "name": "python",
   "nbconvert_exporter": "python",
   "pygments_lexer": "ipython3",
   "version": "3.6.3"
  }
 },
 "nbformat": 4,
 "nbformat_minor": 2
}
